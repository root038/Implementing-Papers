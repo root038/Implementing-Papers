{
 "cells": [
  {
   "cell_type": "code",
   "execution_count": 9,
   "metadata": {},
   "outputs": [],
   "source": [
    "import torch \n",
    "import torchvision \n",
    "import matplotlib.pyplot as plt\n",
    "import torch.nn as nn \n",
    "import torch.nn.functional as F\n",
    "import numpy as np\n",
    "\n",
    "\n",
    "transform = torchvision.transforms.Compose([\n",
    "    torchvision.transforms.ToTensor(),\n",
    "    torchvision.transforms.Normalize((0.1307, ), (0.3081))\n",
    "])\n",
    "\n",
    "#downloading MNIST dataset and checking batch normalization effect in it \n",
    "train_set = torchvision.datasets.MNIST(root=\"../\", train=True,transform=transform, download=True)\n",
    "test_set = torchvision.datasets.MNIST(\"../\", train=False, transform=transform, download=True)\n",
    "\n",
    "\n",
    "device = torch.device(\"cuda\" if torch.cuda.is_available() else \"cpu\")\n",
    "\n",
    "batch_size_train = 32\n",
    "batch_size_test = 100\n",
    "\n",
    "train_loader = torch.utils.data.DataLoader(train_set, batch_size = batch_size_train, shuffle = True)\n",
    "test_loader = torch.utils.data.DataLoader(test_set, batch_size = batch_size_test, shuffle = True)\n",
    "\n"
   ]
  },
  {
   "cell_type": "code",
   "execution_count": 10,
   "metadata": {},
   "outputs": [
    {
     "data": {
      "text/plain": [
       "device(type='cuda')"
      ]
     },
     "execution_count": 10,
     "metadata": {},
     "output_type": "execute_result"
    }
   ],
   "source": [
    "device "
   ]
  },
  {
   "cell_type": "code",
   "execution_count": 11,
   "metadata": {},
   "outputs": [],
   "source": [
    "#constructing a neural network \n",
    "class Network_BN(nn.Module):\n",
    "    def __init__(self):\n",
    "        super(Network_BN, self).__init__()\n",
    "        #default stride = 1, padding = 0, dilation = 1 ??, 28*28\n",
    "        # 10 1x3x3\n",
    "        self.conv1 = nn.Conv2d(in_channels = 1,out_channels = 10, kernel_size =3)\n",
    "        #gives output 10x26x26\n",
    "        #with maxpool gives 10x13x13\n",
    "        self.bn1 = nn.BatchNorm2d(10) \n",
    "        \n",
    "        #20 10x3x3\n",
    "        self.conv2 = nn.Conv2d(in_channels = 10,out_channels = 20, kernel_size=3)\n",
    "        # gives output 20x11x11 but with maxpool, gives 20x5x5\n",
    "        \n",
    "        self.bn2 = nn.BatchNorm2d(20)\n",
    "\n",
    "        self.drop = nn.Dropout2d()\n",
    "        #output of conv = out_channels * H2*W2\n",
    "        \n",
    "        #20x3x3\n",
    "        self.linear1 = nn.Linear(500, 50)\n",
    "\n",
    "        self.bn3 = nn.BatchNorm1d(50)\n",
    "\n",
    "        self.linear2 = nn.Linear(50, 10)\n",
    "        \n",
    "    def forward(self, x):\n",
    "        x = F.relu(F.max_pool2d(self.bn1(self.conv1(x)), 2))\n",
    "        x = F.relu(F.max_pool2d(self.drop(self.bn2(self.conv2(x))), 2))\n",
    "        x = x.view(-1, 500)\n",
    "#         print(f'{x.shape} is the shape of x')\n",
    "        x = F.relu(self.bn3(self.linear1(x)))\n",
    "        x = F.dropout(x, training=self.training)\n",
    "        x = self.linear2(x)\n",
    "        return F.log_softmax(x)   "
   ]
  },
  {
   "cell_type": "code",
   "execution_count": 16,
   "metadata": {},
   "outputs": [
    {
     "data": {
      "text/plain": [
       "Network_BN(\n",
       "  (conv1): Conv2d(1, 10, kernel_size=(3, 3), stride=(1, 1))\n",
       "  (bn1): BatchNorm2d(10, eps=1e-05, momentum=0.1, affine=True, track_running_stats=True)\n",
       "  (conv2): Conv2d(10, 20, kernel_size=(3, 3), stride=(1, 1))\n",
       "  (bn2): BatchNorm2d(20, eps=1e-05, momentum=0.1, affine=True, track_running_stats=True)\n",
       "  (drop): Dropout2d(p=0.5, inplace=False)\n",
       "  (linear1): Linear(in_features=500, out_features=50, bias=True)\n",
       "  (bn3): BatchNorm1d(50, eps=1e-05, momentum=0.1, affine=True, track_running_stats=True)\n",
       "  (linear2): Linear(in_features=50, out_features=10, bias=True)\n",
       ")"
      ]
     },
     "execution_count": 16,
     "metadata": {},
     "output_type": "execute_result"
    }
   ],
   "source": [
    "network = Network_BN() \n",
    "network = network.to(device) \n",
    "network "
   ]
  },
  {
   "cell_type": "code",
   "execution_count": 17,
   "metadata": {},
   "outputs": [],
   "source": [
    "def train(model, n_epochs=20):\n",
    "    # number of epochs to train the model\n",
    "    n_epochs = n_epochs\n",
    "    # track losses\n",
    "    losses = []\n",
    "        \n",
    "    # optimization strategy \n",
    "    # specify loss function (categorical cross-entropy)\n",
    "    criterion = nn.CrossEntropyLoss()\n",
    "\n",
    "    # specify optimizer (stochastic gradient descent) and learning rate = 0.01\n",
    "    optimizer = torch.optim.SGD(model.parameters(), lr=0.01)\n",
    "\n",
    "    # set the model to training mode\n",
    "    model.train()\n",
    "    \n",
    "    for epoch in range(1, n_epochs+1):\n",
    "        # monitor training loss\n",
    "        train_loss = 0.0\n",
    "\n",
    "        ###################\n",
    "        # train the model #\n",
    "        ###################\n",
    "        batch_count = 0\n",
    "        for batch_idx, (data, target) in enumerate(train_loader):\n",
    "            # clear the gradients of all optimized variables\n",
    "            optimizer.zero_grad()\n",
    "            # forward pass: compute predicted outputs by passing inputs to the model\n",
    "            output = model(data.to(device))\n",
    "            # calculate the loss\n",
    "            loss = criterion(output, target.to(device))\n",
    "            # backward pass: compute gradient of the loss with respect to model parameters\n",
    "            loss.backward()\n",
    "            # perform a single optimization step (parameter update)\n",
    "            optimizer.step()\n",
    "            # update average training loss\n",
    "            train_loss += loss.item() # add up avg batch loss\n",
    "            batch_count +=1                \n",
    "\n",
    "        # print training statistics \n",
    "        losses.append(train_loss/batch_count)\n",
    "        print('Epoch: {} \\tTraining Loss: {:.6f}'.format(\n",
    "            epoch, \n",
    "            train_loss/batch_count))\n",
    "    \n",
    "    # return all recorded batch losses\n",
    "    return losses"
   ]
  },
  {
   "cell_type": "code",
   "execution_count": 18,
   "metadata": {},
   "outputs": [
    {
     "data": {
      "text/plain": [
       "(100, 1875)"
      ]
     },
     "execution_count": 18,
     "metadata": {},
     "output_type": "execute_result"
    }
   ],
   "source": [
    "len(test_loader), len(train_loader)"
   ]
  },
  {
   "cell_type": "code",
   "execution_count": 19,
   "metadata": {},
   "outputs": [
    {
     "name": "stderr",
     "output_type": "stream",
     "text": [
      "C:\\Users\\OMEN\\AppData\\Local\\Temp\\ipykernel_2816\\1929942398.py:36: UserWarning: Implicit dimension choice for log_softmax has been deprecated. Change the call to include dim=X as an argument.\n",
      "  return F.log_softmax(x)\n"
     ]
    },
    {
     "name": "stdout",
     "output_type": "stream",
     "text": [
      "Epoch: 1 \tTraining Loss: 0.811141\n",
      "Epoch: 2 \tTraining Loss: 0.394958\n",
      "Epoch: 3 \tTraining Loss: 0.322994\n",
      "Epoch: 4 \tTraining Loss: 0.285838\n",
      "Epoch: 5 \tTraining Loss: 0.259651\n",
      "Epoch: 6 \tTraining Loss: 0.247534\n",
      "Epoch: 7 \tTraining Loss: 0.236151\n",
      "Epoch: 8 \tTraining Loss: 0.221017\n",
      "Epoch: 9 \tTraining Loss: 0.216555\n",
      "Epoch: 10 \tTraining Loss: 0.208433\n",
      "Epoch: 11 \tTraining Loss: 0.205632\n",
      "Epoch: 12 \tTraining Loss: 0.199846\n",
      "Epoch: 13 \tTraining Loss: 0.197508\n",
      "Epoch: 14 \tTraining Loss: 0.196279\n",
      "Epoch: 15 \tTraining Loss: 0.189717\n",
      "Epoch: 16 \tTraining Loss: 0.190988\n",
      "Epoch: 17 \tTraining Loss: 0.185859\n",
      "Epoch: 18 \tTraining Loss: 0.184007\n",
      "Epoch: 19 \tTraining Loss: 0.180349\n",
      "Epoch: 20 \tTraining Loss: 0.179659\n"
     ]
    }
   ],
   "source": [
    "losses_with_norm = train(network)"
   ]
  },
  {
   "cell_type": "code",
   "execution_count": 20,
   "metadata": {},
   "outputs": [],
   "source": [
    "torch.save(network.state_dict(), 'trained_model_BN.pth')"
   ]
  },
  {
   "cell_type": "code",
   "execution_count": 21,
   "metadata": {},
   "outputs": [],
   "source": [
    "NoNormLoss = np.array(losses_with_norm)"
   ]
  },
  {
   "cell_type": "code",
   "execution_count": 22,
   "metadata": {},
   "outputs": [],
   "source": [
    "def test(model, train):\n",
    "    # initialize vars to monitor test loss and accuracy\n",
    "    class_correct = list(0. for i in range(10))\n",
    "    class_total = list(0. for i in range(10))\n",
    "    test_loss = 0.0\n",
    "    test_losses = []\n",
    "\n",
    "    # set model to train or evaluation mode\n",
    "    # just to see the difference in behavior\n",
    "    if(train==True):\n",
    "        model.train()\n",
    "    if(train==False):\n",
    "        model.eval()\n",
    "    \n",
    "    # loss criterion\n",
    "    criterion = nn.CrossEntropyLoss()\n",
    "    \n",
    "    for batch_idx, (data, target) in enumerate(test_loader):\n",
    "        batch_size = data.size(0)\n",
    "        # forward pass: compute predicted outputs by passing inputs to the model\n",
    "        output = model(data.to(device))\n",
    "        # calculate the loss\n",
    "        loss = criterion(output, target.to(device))\n",
    "        # update average test loss \n",
    "        test_loss += loss.item()*batch_size\n",
    "        \n",
    "        if batch_idx%10==0:\n",
    "            test_losses.append(loss.item())\n",
    "        # convert output probabilities to predicted class\n",
    "        _, pred = torch.max(output, 1)\n",
    "        # compare predictions to true label\n",
    "        correct = np.squeeze(pred.eq(target.to(device).data.view_as(pred)))\n",
    "        # calculate test accuracy for each object class\n",
    "        for i in range(batch_size):\n",
    "            label = target.to(device).data[i]\n",
    "            class_correct[label] += correct[i].item()\n",
    "            class_total[label] += 1\n",
    "\n",
    "    print('Test Loss: {:.6f}\\n'.format(test_loss/len(test_loader.dataset)))\n",
    "\n",
    "    for i in range(10):\n",
    "        if class_total[i] > 0:\n",
    "            print('Test Accuracy of %5s: %2d%% (%2d/%2d)' % (\n",
    "                str(i), 100 * class_correct[i] / class_total[i],\n",
    "                np.sum(class_correct[i]), np.sum(class_total[i])))\n",
    "        else:\n",
    "            print('Test Accuracy of %5s: N/A (no training examples)' % (class_correct[i]))\n",
    "\n",
    "    print('\\nTest Accuracy (Overall): %2d%% (%2d/%2d)' % (\n",
    "        100. * np.sum(class_correct) / np.sum(class_total),\n",
    "        np.sum(class_correct), np.sum(class_total)))\n",
    "    \n",
    "    return test_losses"
   ]
  },
  {
   "cell_type": "code",
   "execution_count": 23,
   "metadata": {},
   "outputs": [
    {
     "name": "stderr",
     "output_type": "stream",
     "text": [
      "C:\\Users\\OMEN\\AppData\\Local\\Temp\\ipykernel_2816\\1929942398.py:36: UserWarning: Implicit dimension choice for log_softmax has been deprecated. Change the call to include dim=X as an argument.\n",
      "  return F.log_softmax(x)\n"
     ]
    },
    {
     "name": "stdout",
     "output_type": "stream",
     "text": [
      "Test Loss: 0.141196\n",
      "\n",
      "Test Accuracy of     0: 97% (954/980)\n",
      "Test Accuracy of     1: 98% (1119/1135)\n",
      "Test Accuracy of     2: 95% (986/1032)\n",
      "Test Accuracy of     3: 96% (974/1010)\n",
      "Test Accuracy of     4: 95% (939/982)\n",
      "Test Accuracy of     5: 94% (846/892)\n",
      "Test Accuracy of     6: 96% (925/958)\n",
      "Test Accuracy of     7: 94% (975/1028)\n",
      "Test Accuracy of     8: 94% (916/974)\n",
      "Test Accuracy of     9: 94% (950/1009)\n",
      "\n",
      "Test Accuracy (Overall): 95% (9584/10000)\n",
      "Test Loss: 0.043778\n",
      "\n",
      "Test Accuracy of     0: 99% (974/980)\n",
      "Test Accuracy of     1: 99% (1132/1135)\n",
      "Test Accuracy of     2: 99% (1022/1032)\n",
      "Test Accuracy of     3: 98% (997/1010)\n",
      "Test Accuracy of     4: 98% (966/982)\n",
      "Test Accuracy of     5: 98% (880/892)\n",
      "Test Accuracy of     6: 98% (946/958)\n",
      "Test Accuracy of     7: 98% (1010/1028)\n",
      "Test Accuracy of     8: 98% (955/974)\n",
      "Test Accuracy of     9: 97% (983/1009)\n",
      "\n",
      "Test Accuracy (Overall): 98% (9865/10000)\n"
     ]
    },
    {
     "data": {
      "text/plain": [
       "(array([0.14899869, 0.05870708, 0.10998398, 0.1359953 , 0.10043215,\n",
       "        0.10631517, 0.09510013, 0.30365428, 0.10518607, 0.16192894]),\n",
       " array([0.02774242, 0.03705984, 0.01126399, 0.03141224, 0.04684197,\n",
       "        0.06480875, 0.00545127, 0.01945538, 0.12225097, 0.04986453]))"
      ]
     },
     "execution_count": 23,
     "metadata": {},
     "output_type": "execute_result"
    }
   ],
   "source": [
    "test_loss_train = test(network, train=True)\n",
    "test_loss_train =  np.array(test_loss_train)\n",
    "test_loss_eval = test(network, train=False)\n",
    "test_loss_eval = np.array(test_loss_eval)\n",
    "test_loss_train, test_loss_eval"
   ]
  },
  {
   "cell_type": "code",
   "execution_count": 24,
   "metadata": {},
   "outputs": [],
   "source": [
    "np.save('train_loss_bn.npy', NoNormLoss)\n",
    "np.save('test_loss_train_bn.npy', test_loss_train)\n",
    "np.save('test_loss_eval_bn.npy', test_loss_eval)"
   ]
  },
  {
   "cell_type": "code",
   "execution_count": 25,
   "metadata": {},
   "outputs": [
    {
     "data": {
      "image/png": "[encoded data removed]",
      "text/plain": [
       "<Figure size 1000x600 with 1 Axes>"
      ]
     },
     "metadata": {},
     "output_type": "display_data"
    }
   ],
   "source": [
    "# Plotting the losses\n",
    "plt.figure(figsize=(10, 6))\n",
    "plt.plot( NoNormLoss, label='Train Loss', marker='o')\n",
    "plt.plot(test_loss_train, label='Test Loss with Train', marker='o')\n",
    "plt.plot( test_loss_eval, label='Test Loss with Eval', marker='o')\n",
    "\n",
    "# Adding labels and title\n",
    "plt.xlabel('Epochs')\n",
    "plt.ylabel('Loss')\n",
    "plt.title('Training and Evaluation Losses Over Epochs')\n",
    "plt.legend()\n",
    "\n",
    "# Show the plot\n",
    "plt.show()"
   ]
  },
  {
   "cell_type": "code",
   "execution_count": null,
   "metadata": {},
   "outputs": [],
   "source": []
  }
 ],
 "metadata": {
  "kernelspec": {
   "display_name": "torchmix",
   "language": "python",
   "name": "python3"
  },
  "language_info": {
   "codemirror_mode": {
    "name": "ipython",
    "version": 3
   },
   "file_extension": ".py",
   "mimetype": "text/x-python",
   "name": "python",
   "nbconvert_exporter": "python",
   "pygments_lexer": "ipython3",
   "version": "3.8.18"
  }
 },
 "nbformat": 4,
 "nbformat_minor": 2
}
